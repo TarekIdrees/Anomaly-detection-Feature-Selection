{
  "nbformat": 4,
  "nbformat_minor": 0,
  "metadata": {
    "colab": {
      "name": "FeatureSelection.ipynb",
      "provenance": [],
      "collapsed_sections": []
    },
    "kernelspec": {
      "name": "python3",
      "display_name": "Python 3"
    },
    "language_info": {
      "name": "python"
    }
  },
  "cells": [
    {
      "cell_type": "markdown",
      "source": [
        "**Importing Libraries**"
      ],
      "metadata": {
        "id": "1Wl8DpdklQAI"
      }
    },
    {
      "cell_type": "code",
      "source": [
        "import pandas as pd\n",
        "import cv2\n",
        "import tensorflow\n",
        "from sklearn.model_selection import train_test_split\n",
        "from tensorflow import keras\n",
        "from sklearn.feature_selection import SelectPercentile\n",
        "from sklearn.feature_selection import chi2 , f_classif\n",
        "#Import SVM Classifier model\n",
        "from sklearn import svm\n",
        "#Import scikit-learn metrics module for accuracy calculation\n",
        "from sklearn import metrics\n",
        "#Import knearest neighbors Classifier model\n",
        "from sklearn.neighbors import KNeighborsClassifier\n",
        "#Import MLPClassifier Classifier model\n",
        "from sklearn.neural_network import MLPClassifier\n",
        "#Import classification_report from scikit-learn metrics module for NN Report  \n",
        "from sklearn.metrics import classification_report\n",
        "\n"
      ],
      "metadata": {
        "id": "1lEAQywMjxHA"
      },
      "execution_count": null,
      "outputs": []
    },
    {
      "cell_type": "markdown",
      "source": [
        "**Load Data**"
      ],
      "metadata": {
        "id": "brDFzqzClhI3"
      }
    },
    {
      "cell_type": "code",
      "source": [
        "data = pd.read_csv(\"data.csv\")\n",
        "#preprossing the data \n",
        "new_dataset=data.drop(['Unnamed: 32', 'id'],axis=1)\n",
        "#Encoding diagnosis classes \n",
        "new_dataset['diagnosis']=new_dataset['diagnosis'].replace('M', 1)\n",
        "new_dataset['diagnosis']=new_dataset['diagnosis'].replace('B', 0)\n",
        "#split the data to X and Y ( X -> Features , Y -> class ) \n",
        "X = new_dataset.iloc[:, 1:]\n",
        "y = new_dataset.iloc[:, 0:1]\n",
        "\n",
        "# print(X.shape)\n",
        "# print(y.shape)\n",
        "# print(y)\n",
        "\n",
        "\n",
        "#store features name\n",
        "colNames = list(X.columns)"
      ],
      "metadata": {
        "id": "Le68EbuElgdJ"
      },
      "execution_count": null,
      "outputs": []
    },
    {
      "cell_type": "code",
      "source": [
        "#Select features according to a percentile of the highest scores\n",
        "FeatureSelection = SelectPercentile(score_func = chi2, percentile=60) # score_func can = f_classif\n",
        "Features = FeatureSelection.fit_transform(X, y)\n",
        "Features"
      ],
      "metadata": {
        "colab": {
          "base_uri": "https://localhost:8080/"
        },
        "id": "zDIgOSLSnPwW",
        "outputId": "2d1d52a1-c07e-4c1e-8356-cc091471b4db"
      },
      "execution_count": null,
      "outputs": [
        {
          "output_type": "execute_result",
          "data": {
            "text/plain": [
              "array([[ 17.99  ,  10.38  , 122.8   , ...,   0.7119,   0.2654,   0.4601],\n",
              "       [ 20.57  ,  17.77  , 132.9   , ...,   0.2416,   0.186 ,   0.275 ],\n",
              "       [ 19.69  ,  21.25  , 130.    , ...,   0.4504,   0.243 ,   0.3613],\n",
              "       ...,\n",
              "       [ 16.6   ,  28.08  , 108.3   , ...,   0.3403,   0.1418,   0.2218],\n",
              "       [ 20.6   ,  29.33  , 140.1   , ...,   0.9387,   0.265 ,   0.4087],\n",
              "       [  7.76  ,  24.54  ,  47.92  , ...,   0.    ,   0.    ,   0.2871]])"
            ]
          },
          "metadata": {},
          "execution_count": 8
        }
      ]
    },
    {
      "cell_type": "code",
      "source": [
        "#showing X Dimension\n",
        "# print('X Shape is ' , Features.shape)\n",
        "# print('Selected Features are : ' , FeatureSelection.get_support())\n",
        "\n",
        "#Feature Selected\n",
        "features_name=list(FeatureSelection.get_support())\n",
        "\n",
        "#Extracting The features name \n",
        "selected_feature_name=[]\n",
        "\n",
        "for i in range(len(features_name)):\n",
        "    if features_name[i]:\n",
        "        selected_feature_name.append(colNames[i])\n",
        "\n",
        "#print Selected Feature Names \n",
        "selected_feature_name"
      ],
      "metadata": {
        "colab": {
          "base_uri": "https://localhost:8080/"
        },
        "id": "hohB4ltGn7PU",
        "outputId": "fca2e7e4-b713-4c57-debd-e4bad0e68ad1"
      },
      "execution_count": null,
      "outputs": [
        {
          "output_type": "execute_result",
          "data": {
            "text/plain": [
              "['radius_mean',\n",
              " 'texture_mean',\n",
              " 'perimeter_mean',\n",
              " 'area_mean',\n",
              " 'compactness_mean',\n",
              " 'concavity_mean',\n",
              " 'concave points_mean',\n",
              " 'radius_se',\n",
              " 'perimeter_se',\n",
              " 'area_se',\n",
              " 'radius_worst',\n",
              " 'texture_worst',\n",
              " 'perimeter_worst',\n",
              " 'area_worst',\n",
              " 'compactness_worst',\n",
              " 'concavity_worst',\n",
              " 'concave points_worst',\n",
              " 'symmetry_worst']"
            ]
          },
          "metadata": {},
          "execution_count": 10
        }
      ]
    },
    {
      "cell_type": "markdown",
      "source": [
        "**Spliting the data With the new selected features**\n",
        "\n",
        "\n"
      ],
      "metadata": {
        "id": "Nw-lnJapoqiN"
      }
    },
    {
      "cell_type": "code",
      "source": [
        "#extracting only the selected features data from whole data\n",
        "X= X[selected_feature_name]\n",
        "#Splitng\n",
        "X_train, X_test, y_train, y_test = train_test_split(X, y, test_size=0.2)\n",
        "# print(X_train.shape)\n",
        "# print(X_test.shape)\n",
        "# print(y_train.shape)\n",
        "# print(y_test.shape)"
      ],
      "metadata": {
        "id": "q8WrpZLKomx0"
      },
      "execution_count": null,
      "outputs": []
    },
    {
      "cell_type": "markdown",
      "source": [
        "**Calling Models**"
      ],
      "metadata": {
        "id": "TPEdWA6qpNQl"
      }
    },
    {
      "cell_type": "code",
      "source": [
        "print(\"*************SVM*************\")\n",
        "\n",
        "#Create a svm Classifier\n",
        "clf = svm.SVC(kernel='linear') # Linear Kernel\n",
        "\n",
        "#Train the model using the training sets\n",
        "clf.fit(X_train, y_train.values.ravel())\n",
        "\n",
        "#Predict the response for test dataset\n",
        "y_pred = clf.predict(X_test)\n",
        "\n",
        "\n",
        "# Model Accuracy: how often is the classifier correct?\n",
        "print(\"Accuracy:\",metrics.accuracy_score(y_test, y_pred))\n",
        "\n",
        "# Model Precision: what percentage of positive tuples are labeled as such?\n",
        "print(\"Precision:\",metrics.precision_score(y_test, y_pred))\n",
        "\n",
        "# Model Recall: what percentage of positive tuples are labelled as such?\n",
        "print(\"Recall:\",metrics.recall_score(y_test, y_pred))\n"
      ],
      "metadata": {
        "colab": {
          "base_uri": "https://localhost:8080/"
        },
        "id": "bS0IVPaUqS3x",
        "outputId": "195eafa2-1976-4907-af0a-cbe7a2f41593"
      },
      "execution_count": null,
      "outputs": [
        {
          "output_type": "stream",
          "name": "stdout",
          "text": [
            "*************SVM*************\n",
            "Accuracy: 0.9473684210526315\n",
            "Precision: 0.975609756097561\n",
            "Recall: 0.8888888888888888\n"
          ]
        }
      ]
    },
    {
      "cell_type": "code",
      "execution_count": null,
      "metadata": {
        "colab": {
          "base_uri": "https://localhost:8080/"
        },
        "id": "Uruc93Miji1P",
        "outputId": "0daf58f2-d463-4566-ebfa-1ecd9f264135"
      },
      "outputs": [
        {
          "output_type": "stream",
          "name": "stdout",
          "text": [
            "*************KNN*************\n",
            "Accuracy: 0.9122807017543859\n",
            "Precision: 0.9487179487179487\n",
            "Recall: 0.8222222222222222\n"
          ]
        }
      ],
      "source": [
        "print(\"*************KNN*************\")\n",
        "\n",
        "#Create KNN Classifier\n",
        "knn = KNeighborsClassifier(n_neighbors=7)\n",
        "\n",
        "#Train the model using the training sets\n",
        "knn.fit(X_train, y_train.values.ravel())\n",
        "\n",
        "#Predict the response for test dataset\n",
        "y_pred = knn.predict(X_test)\n",
        "\n",
        "# Model Accuracy, how often is the classifier correct?\n",
        "print(\"Accuracy:\",metrics.accuracy_score(y_test, y_pred))\n",
        "\n",
        "# Model Precision: what percentage of positive tuples are labeled as such?\n",
        "\n",
        "print(\"Precision:\",metrics.precision_score(y_test, y_pred))\n",
        "\n",
        "# Model Recall: what percentage of positive tuples are labelled as such?\n",
        "print(\"Recall:\",metrics.recall_score(y_test, y_pred))\n",
        "\n"
      ]
    },
    {
      "cell_type": "code",
      "source": [
        "print(\"*************MLPNN*************\")\n",
        "mlp = MLPClassifier(hidden_layer_sizes=(10, 10, 10), max_iter=1000)\n",
        "mlp.fit(X_train, y_train.values.ravel())\n",
        "y_pred = mlp.predict(X_test)\n",
        "# Model Accuracy, how often is the classifier correct?\n",
        "print(\"Accuracy:\",metrics.accuracy_score(y_test, y_pred))\n",
        "# Model Precision: what percentage of positive tuples are labeled as such?\n",
        "print(\"Precision:\",metrics.precision_score(y_test, y_pred))\n",
        "# Model Recall: what percentage of positive tuples are labelled as such?\n",
        "print(\"Recall:\",metrics.recall_score(y_test, y_pred))\n",
        "#antor way to print repoort for accuarcy and percision and recall\n",
        "print(classification_report(y_test,y_pred))\n"
      ],
      "metadata": {
        "colab": {
          "base_uri": "https://localhost:8080/"
        },
        "id": "mYsGZwlOqZV3",
        "outputId": "c460017d-e6dd-465f-d04c-ca7a73c66f23"
      },
      "execution_count": null,
      "outputs": [
        {
          "output_type": "stream",
          "name": "stdout",
          "text": [
            "*************MLPNN*************\n",
            "Accuracy: 0.8859649122807017\n",
            "Precision: 0.9210526315789473\n",
            "Recall: 0.7777777777777778\n",
            "              precision    recall  f1-score   support\n",
            "\n",
            "           0       0.87      0.96      0.91        69\n",
            "           1       0.92      0.78      0.84        45\n",
            "\n",
            "    accuracy                           0.89       114\n",
            "   macro avg       0.89      0.87      0.88       114\n",
            "weighted avg       0.89      0.89      0.88       114\n",
            "\n"
          ]
        }
      ]
    }
  ]
}